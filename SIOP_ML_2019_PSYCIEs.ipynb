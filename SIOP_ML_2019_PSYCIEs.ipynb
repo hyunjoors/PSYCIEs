{
 "cells": [
  {
   "cell_type": "markdown",
   "metadata": {},
   "source": [
    "This notebook is heavily inspired by [*Working With Text Data*](https://scikit-learn.org/stable/tutorial/text_analytics/working_with_text_data.html).\n",
    "\n",
    "Note: the performance is bad. This notebook is just for building up a workflow.\n",
    "\n",
    "Potential areas of improvement:\n",
    "\n",
    "- use more ways of word representation (word to number) methods\n",
    "- use different models\n",
    "- include all five questions instead of \"one-on-one' prediction\n",
    "- if still use \"one-on-one\", explore building diferent models for different traits"
   ]
  },
  {
   "cell_type": "markdown",
   "metadata": {},
   "source": [
    "## Import necessary packages"
   ]
  },
  {
   "cell_type": "code",
   "execution_count": 7,
   "metadata": {},
   "outputs": [],
   "source": [
    "import numpy as np\n",
    "import pandas as pd\n",
    "from sklearn.model_selection import train_test_split\n",
    "from sklearn.pipeline import Pipeline\n",
    "from sklearn.feature_extraction.text import CountVectorizer\n",
    "from sklearn.feature_extraction.text import TfidfTransformer\n",
    "from sklearn.decomposition import TruncatedSVD\n",
    "from sklearn.svm import SVR\n",
    "\n",
    "random_seed = 8424  # this is very important!"
   ]
  },
  {
   "cell_type": "markdown",
   "metadata": {},
   "source": [
    "## Load and prepare data"
   ]
  },
  {
   "cell_type": "code",
   "execution_count": 8,
   "metadata": {},
   "outputs": [],
   "source": [
    "data = pd.read_csv(\"training_data_participant/siop_ml_train_participant.csv\")"
   ]
  },
  {
   "cell_type": "code",
   "execution_count": 9,
   "metadata": {},
   "outputs": [],
   "source": [
    "X = data.iloc[:, 1:6]\n",
    "y = data.iloc[:, 6:11]\n",
    "\n",
    "# rename columns for easier access\n",
    "X.rename(columns={'open_ended_1': 'A',\n",
    "                  'open_ended_2': 'C',\n",
    "                  'open_ended_3': 'E',\n",
    "                  'open_ended_4': 'N', \n",
    "                  'open_ended_5': 'O'}, inplace=True)\n",
    "\n",
    "y.rename(columns={'E_Scale_score': 'E',\n",
    "                  'A_Scale_score': 'A',\n",
    "                  'O_Scale_score': 'O',\n",
    "                  'C_Scale_score': 'C',\n",
    "                  'N_Scale_score': 'N'}, inplace=True)"
   ]
  },
  {
   "cell_type": "code",
   "execution_count": 10,
   "metadata": {},
   "outputs": [],
   "source": [
    "X_train, X_test, y_train, y_test = train_test_split(X, y, \n",
    "                                                    random_state=random_seed,\n",
    "                                                    test_size=0.2,\n",
    "                                                    shuffle=True)"
   ]
  },
  {
   "cell_type": "code",
   "execution_count": 29,
   "metadata": {},
   "outputs": [
    {
     "data": {
      "text/plain": [
       "(870, 5)"
      ]
     },
     "execution_count": 29,
     "metadata": {},
     "output_type": "execute_result"
    }
   ],
   "source": [
    "X_train.shape"
   ]
  },
  {
   "cell_type": "markdown",
   "metadata": {},
   "source": [
    "## Procedure\n",
    "\n",
    "**1. Transform text into numbers:** Term frequency is used as a way of representing words\n",
    "\n",
    "**2. Train models:** Support vector regression\n",
    "\n",
    "**3. Evaluation:** Pearson correlation"
   ]
  },
  {
   "cell_type": "code",
   "execution_count": 75,
   "metadata": {},
   "outputs": [],
   "source": [
    "model = Pipeline([\n",
    "    ('vect', CountVectorizer()),\n",
    "    ('tfidf', TfidfTransformer(use_idf=False)),\n",
    "    ('svd', TruncatedSVD(random_state=random_seed, n_components=3)),\n",
    "    ('model', SVR(kernel='linear'))\n",
    "])"
   ]
  },
  {
   "cell_type": "code",
   "execution_count": 76,
   "metadata": {},
   "outputs": [
    {
     "name": "stdout",
     "output_type": "stream",
     "text": [
      "('O', 0.12216577668758352)\n",
      "('C', 0.11644799035988904)\n",
      "('E', 0.06505485299866633)\n",
      "('A', 0.20101985663402858)\n",
      "('N', -0.03496962446907218)\n"
     ]
    }
   ],
   "source": [
    "# Here I only use responses of one questions to predict one trait\n",
    "for trait in ['O', 'C', 'E', 'A', 'N']:\n",
    "    model.fit(X_train[trait], y_train[trait])\n",
    "    y_pred = model.predict(X_test[trait])\n",
    "    r = np.corrcoef(y_pred, y_test[trait])[0, 1] \n",
    "    print((trait, r))"
   ]
  }
 ],
 "metadata": {
  "kernelspec": {
   "display_name": "Python 3",
   "language": "python",
   "name": "python3"
  },
  "language_info": {
   "codemirror_mode": {
    "name": "ipython",
    "version": 3
   },
   "file_extension": ".py",
   "mimetype": "text/x-python",
   "name": "python",
   "nbconvert_exporter": "python",
   "pygments_lexer": "ipython3",
   "version": "3.7.1"
  }
 },
 "nbformat": 4,
 "nbformat_minor": 2
}
